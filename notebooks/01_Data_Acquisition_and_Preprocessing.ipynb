{
 "cell_type": "code",
 "execution_count": null,
 "metadata": {},
 "outputs": [],
 "source": [
    "# This is a new Jupyter notebook cell\n",
    "print('Hello, world!')"
 ]
}